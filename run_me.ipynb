{
 "cells": [
  {
   "cell_type": "markdown",
   "metadata": {},
   "source": [
    "### Cleaning up possible files of previous executions"
   ]
  },
  {
   "cell_type": "code",
   "execution_count": null,
   "metadata": {},
   "outputs": [],
   "source": [
    "!rm -rf result"
   ]
  },
  {
   "cell_type": "markdown",
   "metadata": {},
   "source": [
    "### Importing modules and creating output directory"
   ]
  },
  {
   "cell_type": "code",
   "execution_count": null,
   "metadata": {},
   "outputs": [],
   "source": [
    "from game import Game\n",
    "from watch import Watcher\n",
    "\n",
    "import time\n",
    "import os\n",
    "\n",
    "if not os.path.isdir('result'):\n",
    "    os.makedirs('result')"
   ]
  },
  {
   "cell_type": "markdown",
   "metadata": {},
   "source": [
    "### Running offline training\n",
    "* No enemies\n",
    "* Learning path"
   ]
  },
  {
   "cell_type": "code",
   "execution_count": null,
   "metadata": {},
   "outputs": [],
   "source": [
    "start = time.time()\n",
    "\n",
    "col = False  # Colision False (offline training, no enemies, just to learn path)\n",
    "\n",
    "watcher = None\n",
    "# watcher = Watcher(show='periodic', period=5, duration=2, replay=False, fps=30, clock_flag=True)\n",
    "\n",
    "game = Game(level=0, watcher=watcher, colision=col)\n",
    "\n",
    "# General parameters\n",
    "game.player_max_moves = 200\n",
    "game.player_max_max_moves = 800\n",
    "game.player_vel = 5\n",
    "\n",
    "# Every game.player_moves_interval iterations, game.player_max_moves is increased by game.player_moves_step\n",
    "game.player_moves_step = 15\n",
    "game.player_moves_interval = 10\n",
    "\n",
    "# Every game.eps_decrease_interval, game.learn.eps is halved\n",
    "game.eps_decrease_interval = 200\n",
    "\n",
    "game.iteration_print_interval = 100\n",
    "game.max_iterations = 1000\n",
    "\n",
    "# Q-Learning parameters\n",
    "game.learn.eps = 0.9\n",
    "game.learn.lr = 0.6\n",
    "game.learn.gamma = 0.99\n",
    "\n",
    "# Colision On/Off\n",
    "game.checkpoints = False   # Checkpoints are deprecated, though I'm not sure if I can remove this\n",
    "game.constant_eps = False  # Iff true ignore game.eps_decrease_interval\n",
    "\n",
    "game.start()\n",
    "\n",
    "finish = time.time()\n",
    "print('Execution time ', time.strftime('%H:%M:%S', time.gmtime(finish - start)))\n",
    "\n",
    "filename = \"result/params_offline.txt\"\n",
    "\n",
    "with open(filename, 'w') as f:\n",
    "    f.write('game.player_max_moves = ' + str(game.player_max_moves) + '\\n')\n",
    "    f.write('game.player_max_max_moves = ' + str(game.player_max_max_moves) + '\\n')\n",
    "    f.write('game.player_vel = ' + str(game.player_vel) + '\\n')\n",
    "    f.write('game.player_moves_step = ' + str(game.player_moves_step) + '\\n')\n",
    "    f.write('game.player_moves_interval = ' + str(game.player_moves_interval) + '\\n')\n",
    "    f.write('game.eps_decrease_interval = ' + str(game.eps_decrease_interval) + '\\n')\n",
    "    f.write('game.iteration_print_interval = ' + str(game.iteration_print_interval) + '\\n')\n",
    "    f.write('game.max_iterations = ' + str(game.max_iterations) + '\\n')\n",
    "    f.write('game.learn.eps = ' + str(game.learn.eps) + '\\n')\n",
    "    f.write('game.learn.lr = ' + str(game.learn.lr) + '\\n')\n",
    "    f.write('game.learn.gamma = ' + str(game.learn.gamma) + '\\n')\n",
    "    f.write('game.colision = ' + str(game.colision) + '\\n')\n",
    "    f.write('game.checkpoints = ' + str(game.checkpoints) + '\\n')\n",
    "    f.write('game.constant_eps = ' + str(game.constant_eps) + '\\n')\n",
    "    f.write('game.epochs = ' + str(game.epochs) + '\\n')\n",
    "    f.write('game.pl.mov_num = ' + str(game.pl.mov_num) + '\\n')\n",
    "    f.write('game.qsz = ' + str(game.qsz) + '\\n')\n"
   ]
  },
  {
   "cell_type": "markdown",
   "metadata": {},
   "source": [
    "### Running online training\n",
    "* With enemies\n",
    "* Learning to dodge"
   ]
  },
  {
   "cell_type": "code",
   "execution_count": null,
   "metadata": {},
   "outputs": [],
   "source": [
    "start = time.time()\n",
    "\n",
    "col = True  # Colision True (online training, with enemies, to learn to dodge enemies)\n",
    "\n",
    "# watcher = None\n",
    "\n",
    "# after 5 iterations, show 2\n",
    "# watcher = Watcher(show='periodic', period=5, duration=2, replay=False, fps=30, clock_flag=True)\n",
    "\n",
    "# show every iteration\n",
    "# watcher = Watcher(show='all', replay=False, fps=30, clock_flag=True)\n",
    "\n",
    "# shows only replay at the end\n",
    "watcher = Watcher(show='nothing', replay=True, fps=30, clock_flag=True)\n",
    "\n",
    "game = Game(level=0, watcher=watcher, colision=col)\n",
    "\n",
    "# General parameters\n",
    "game.player_max_moves = 200\n",
    "game.player_max_max_moves = 800\n",
    "game.player_vel = 5\n",
    "\n",
    "# Every game.player_moves_interval iterations, game.player_max_moves is increased by game.player_moves_step\n",
    "game.player_moves_step = 15\n",
    "game.player_moves_interval = 10\n",
    "\n",
    "# Every game.eps_decrease_interval, game.learn.eps is halved\n",
    "game.eps_decrease_interval = 200\n",
    "\n",
    "game.iteration_print_interval = 50\n",
    "game.max_iterations = 700\n",
    "\n",
    "# Q-Learning parameters\n",
    "game.learn.eps = 0.15\n",
    "game.learn.lr = 0.3\n",
    "game.learn.gamma = 0.9\n",
    "\n",
    "# Colision On/Off\n",
    "game.checkpoints = False   # Checkpoints are deprecated, though I'm not sure if I can remove this\n",
    "game.constant_eps = False  # Iff true ignore game.eps_decrease_interval\n",
    "\n",
    "game.start()\n",
    "\n",
    "finish = time.time()\n",
    "print('Execution time ', time.strftime('%H:%M:%S', time.gmtime(finish - start)))\n",
    "\n",
    "filename = \"result/params_online.txt\"\n",
    "\n",
    "with open(filename, 'w') as f:\n",
    "    f.write('game.player_max_moves = ' + str(game.player_max_moves) + '\\n')\n",
    "    f.write('game.player_max_max_moves = ' + str(game.player_max_max_moves) + '\\n')\n",
    "    f.write('game.player_vel = ' + str(game.player_vel) + '\\n')\n",
    "    f.write('game.player_moves_step = ' + str(game.player_moves_step) + '\\n')\n",
    "    f.write('game.player_moves_interval = ' + str(game.player_moves_interval) + '\\n')\n",
    "    f.write('game.eps_decrease_interval = ' + str(game.eps_decrease_interval) + '\\n')\n",
    "    f.write('game.iteration_print_interval = ' + str(game.iteration_print_interval) + '\\n')\n",
    "    f.write('game.max_iterations = ' + str(game.max_iterations) + '\\n')\n",
    "    f.write('game.learn.eps = ' + str(game.learn.eps) + '\\n')\n",
    "    f.write('game.learn.lr = ' + str(game.learn.lr) + '\\n')\n",
    "    f.write('game.learn.gamma = ' + str(game.learn.gamma) + '\\n')\n",
    "    f.write('game.colision = ' + str(game.colision) + '\\n')\n",
    "    f.write('game.checkpoints = ' + str(game.checkpoints) + '\\n')\n",
    "    f.write('game.constant_eps = ' + str(game.constant_eps) + '\\n')\n",
    "    f.write('game.epochs = ' + str(game.epochs) + '\\n')\n",
    "    f.write('game.pl.mov_num = ' + str(game.pl.mov_num) + '\\n')\n",
    "    f.write('game.qsz = ' + str(game.qsz) + '\\n')\n"
   ]
  },
  {
   "cell_type": "markdown",
   "metadata": {},
   "source": [
    "### Showing replay"
   ]
  },
  {
   "cell_type": "code",
   "execution_count": null,
   "metadata": {},
   "outputs": [],
   "source": [
    "!python play_replay.py 30 result/replay.p"
   ]
  },
  {
   "cell_type": "markdown",
   "metadata": {},
   "source": [
    "### Generating result heatmaps"
   ]
  },
  {
   "cell_type": "code",
   "execution_count": null,
   "metadata": {
    "scrolled": true
   },
   "outputs": [],
   "source": [
    "!bash generate_heatmaps.sh"
   ]
  },
  {
   "cell_type": "code",
   "execution_count": null,
   "metadata": {},
   "outputs": [],
   "source": []
  }
 ],
 "metadata": {
  "kernelspec": {
   "display_name": "env",
   "language": "python",
   "name": "env"
  },
  "language_info": {
   "codemirror_mode": {
    "name": "ipython",
    "version": 3
   },
   "file_extension": ".py",
   "mimetype": "text/x-python",
   "name": "python",
   "nbconvert_exporter": "python",
   "pygments_lexer": "ipython3",
   "version": "3.6.8"
  }
 },
 "nbformat": 4,
 "nbformat_minor": 2
}
